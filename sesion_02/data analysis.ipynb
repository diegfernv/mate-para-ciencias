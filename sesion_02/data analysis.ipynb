{
 "cells": [
  {
   "cell_type": "markdown",
   "id": "340dbc71",
   "metadata": {},
   "source": [
    "# Instalacion de paquetes\n",
    "Instalar pip a travès del notebook"
   ]
  },
  {
   "cell_type": "code",
   "execution_count": null,
   "id": "fb3dc158",
   "metadata": {},
   "outputs": [],
   "source": [
    "!pip install pandas"
   ]
  },
  {
   "cell_type": "markdown",
   "id": "fddb8c6f",
   "metadata": {},
   "source": [
    "# Packages import \n",
    "Se deben importar los paquetes al inicio del archivo"
   ]
  },
  {
   "cell_type": "code",
   "execution_count": 2,
   "id": "21013325",
   "metadata": {
    "lines_to_next_cell": 0
   },
   "outputs": [],
   "source": [
    "import pandas as pd"
   ]
  },
  {
   "cell_type": "markdown",
   "id": "98bb8f94",
   "metadata": {},
   "source": [
    "# Carga de datos"
   ]
  },
  {
   "cell_type": "code",
   "execution_count": 13,
   "id": "b6cc7649",
   "metadata": {},
   "outputs": [
    {
     "data": {
      "text/html": [
       "<div>\n",
       "<style scoped>\n",
       "    .dataframe tbody tr th:only-of-type {\n",
       "        vertical-align: middle;\n",
       "    }\n",
       "\n",
       "    .dataframe tbody tr th {\n",
       "        vertical-align: top;\n",
       "    }\n",
       "\n",
       "    .dataframe thead th {\n",
       "        text-align: right;\n",
       "    }\n",
       "</style>\n",
       "<table border=\"1\" class=\"dataframe\">\n",
       "  <thead>\n",
       "    <tr style=\"text-align: right;\">\n",
       "      <th></th>\n",
       "      <th>Nombre</th>\n",
       "      <th>Edad</th>\n",
       "      <th>Ciudad</th>\n",
       "      <th>Salario</th>\n",
       "      <th>Departamento</th>\n",
       "    </tr>\n",
       "  </thead>\n",
       "  <tbody>\n",
       "    <tr>\n",
       "      <th>0</th>\n",
       "      <td>Rodolfo</td>\n",
       "      <td>46</td>\n",
       "      <td>Punta Arenas</td>\n",
       "      <td>1400000.0</td>\n",
       "      <td>IT</td>\n",
       "    </tr>\n",
       "    <tr>\n",
       "      <th>1</th>\n",
       "      <td>Eva</td>\n",
       "      <td>43</td>\n",
       "      <td>Santiago</td>\n",
       "      <td>1800000.0</td>\n",
       "      <td>Ventas</td>\n",
       "    </tr>\n",
       "    <tr>\n",
       "      <th>2</th>\n",
       "      <td>María</td>\n",
       "      <td>9</td>\n",
       "      <td>Osorno</td>\n",
       "      <td>NaN</td>\n",
       "      <td>None</td>\n",
       "    </tr>\n",
       "    <tr>\n",
       "      <th>3</th>\n",
       "      <td>Rosa</td>\n",
       "      <td>37</td>\n",
       "      <td>Osorno</td>\n",
       "      <td>4500000.0</td>\n",
       "      <td>Recursos Humanos</td>\n",
       "    </tr>\n",
       "  </tbody>\n",
       "</table>\n",
       "</div>"
      ],
      "text/plain": [
       "    Nombre  Edad        Ciudad    Salario      Departamento\n",
       "0  Rodolfo    46  Punta Arenas  1400000.0                IT\n",
       "1      Eva    43      Santiago  1800000.0            Ventas\n",
       "2    María     9        Osorno        NaN              None\n",
       "3     Rosa    37        Osorno  4500000.0  Recursos Humanos"
      ]
     },
     "execution_count": 13,
     "metadata": {},
     "output_type": "execute_result"
    }
   ],
   "source": [
    "data = {\n",
    "    'Nombre': ['Rodolfo', 'Eva', 'María', 'Rosa'],\n",
    "    'Edad': [46, 43, 9, 37],\n",
    "    'Ciudad': ['Punta Arenas', 'Santiago', 'Osorno', 'Osorno'],\n",
    "    'Salario': [1400000, 1800000, None, 4500000],\n",
    "    'Departamento': ['IT', 'Ventas', None, 'Recursos Humanos']\n",
    "}\n",
    "df = pd.DataFrame(data)\n",
    "df"
   ]
  },
  {
   "cell_type": "markdown",
   "id": "da898532",
   "metadata": {},
   "source": [
    "# Ejercicios\n",
    "\n",
    "Utilizando los set de datos en raw_data se pide realizar las siguientes tareas:"
   ]
  },
  {
   "cell_type": "markdown",
   "id": "7e936838",
   "metadata": {},
   "source": [
    "## 1. Filtrado y seleccion de datos\n",
    "- Selecciona todas las personas que tienen más de 30 años.\n",
    "- Encuentra todos los productos con un descuento superior a 10%.\n",
    "- Filtra las órdenes realizadas con el método de pago \"debito\"."
   ]
  },
  {
   "cell_type": "markdown",
   "id": "08d20ae1",
   "metadata": {},
   "source": [
    "## 2. Analisis de duplicados y llenado de nulos\n",
    "Rellena los valores nulos de correo electrónico con el formato {nombre}.{apellido}@example.com\n",
    "\n",
    "Desafio: Quitar las tildes (se recomienda buscar la funcion 'normalize' del paquete 'unicodedata')"
   ]
  },
  {
   "cell_type": "markdown",
   "id": "6fa0085a",
   "metadata": {},
   "source": [
    "## 3. Agrupación y Resumen de Datos (Parte 1)\n",
    "- Une el dataset de orden con personas para obtener la información de contacto de las personas que realizaron las órdenes.\n",
    "- Agrupa las órdenes por persona_id y calcula la suma de la cantidad comprada para cada persona."
   ]
  },
  {
   "cell_type": "markdown",
   "id": "5def8308",
   "metadata": {},
   "source": [
    "## 3. Agrupación y Resumen de Datos (Parte 2)\n",
    "- Une el dataset de orden con productos para agregar la información de precios y descuentos a las órdenes.\n",
    "- Agrupa las órdenes por producto y calcula el total de ingresos por cada producto (considerando el precio,la cantidad comprada y su descuento)."
   ]
  },
  {
   "cell_type": "markdown",
   "id": "f91f0da5",
   "metadata": {},
   "source": [
    "## 4. Análisis de Fechas\n",
    "- Calcula el tiempo transcurrido desde la primera compra de cada persona hasta la última."
   ]
  }
 ],
 "metadata": {
  "kernelspec": {
   "display_name": "Python 3",
   "language": "python",
   "name": "python3"
  },
  "language_info": {
   "codemirror_mode": {
    "name": "ipython",
    "version": 3
   },
   "file_extension": ".py",
   "mimetype": "text/x-python",
   "name": "python",
   "nbconvert_exporter": "python",
   "pygments_lexer": "ipython3",
   "version": "3.12.4"
  }
 },
 "nbformat": 4,
 "nbformat_minor": 5
}
